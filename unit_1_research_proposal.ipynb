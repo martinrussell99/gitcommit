{
 "cells": [
  {
   "cell_type": "markdown",
   "metadata": {},
   "source": [
    "# A Research Proposal to Accelerate College Completion at Texas Public Universities\n",
    "The Problem:\n",
    "How do we increase the number of students completing their baccalaureate degrees at Texas public universities in four years or less?\n",
    "\n",
    "College students attending Texas public universities are taking too long to complete their four-year degree plans.  In most Texas public universities less than half of all students complete their baccalaureate within four years.  The State of Texas has implemented some measures to alleviate this problem in 2015, those measures have not shown the results needed to resolve this problem.  The failure to graduate in a timely manner has a negative impact on the State of Texas in the following ways:\n",
    "\n",
    "    •\tThere are a finite number of classrooms and professors within the state, every student who fails to graduate on time is using resources that should be dedicated to the incoming class of freshmen.\n",
    "\n",
    "    •\tThe majority of students attending Texas universities are receiving some type of financial assistance, typically student loans guaranteed by the state or the federal government.  Students who do not graduate on time only contribute to the growing problem of student loan debt in the state.\n",
    "\n",
    "    •\tTexas needs college graduates!  These students need to earn their college degree, join the workforce, and start contributing to the Texas economy.\n",
    "\n"
   ]
  },
  {
   "cell_type": "code",
   "execution_count": 1,
   "metadata": {},
   "outputs": [],
   "source": [
    "from scipy import stats\n",
    "import seaborn as sns\n",
    "import matplotlib.pyplot as plt\n",
    "import pandas as pd\n",
    "import numpy as np\n",
    "import csv\n",
    "df1 = pd.read_csv('gradrates16.csv')\n",
    "df2 = pd.read_csv('gradrates17.csv')\n"
   ]
  },
  {
   "cell_type": "markdown",
   "metadata": {},
   "source": [
    "# Dataset for 2017"
   ]
  },
  {
   "cell_type": "code",
   "execution_count": 2,
   "metadata": {},
   "outputs": [
    {
     "data": {
      "text/html": [
       "<div>\n",
       "<style scoped>\n",
       "    .dataframe tbody tr th:only-of-type {\n",
       "        vertical-align: middle;\n",
       "    }\n",
       "\n",
       "    .dataframe tbody tr th {\n",
       "        vertical-align: top;\n",
       "    }\n",
       "\n",
       "    .dataframe thead th {\n",
       "        text-align: right;\n",
       "    }\n",
       "</style>\n",
       "<table border=\"1\" class=\"dataframe\">\n",
       "  <thead>\n",
       "    <tr style=\"text-align: right;\">\n",
       "      <th></th>\n",
       "      <th>University</th>\n",
       "      <th>ID</th>\n",
       "      <th>Fall 2010 Cohort</th>\n",
       "      <th>Graduates in 4 years</th>\n",
       "      <th>4-year Graduation Rate</th>\n",
       "      <th>Total Graduates in 6 years</th>\n",
       "      <th>6-year Graduation Rate</th>\n",
       "      <th>Non-Graduates, Persisting</th>\n",
       "      <th>Persistence Rate</th>\n",
       "      <th>Grad + Pers.</th>\n",
       "      <th>No Grad, No Persisting</th>\n",
       "    </tr>\n",
       "  </thead>\n",
       "  <tbody>\n",
       "    <tr>\n",
       "      <th>0</th>\n",
       "      <td>ANGELO STATE UNIVERSITY</td>\n",
       "      <td>3541</td>\n",
       "      <td>1,306</td>\n",
       "      <td>329</td>\n",
       "      <td>25.20%</td>\n",
       "      <td>581</td>\n",
       "      <td>44.50%</td>\n",
       "      <td>145</td>\n",
       "      <td>11.10%</td>\n",
       "      <td>55.60%</td>\n",
       "      <td>44.40%</td>\n",
       "    </tr>\n",
       "    <tr>\n",
       "      <th>1</th>\n",
       "      <td>LAMAR UNIVERSITY</td>\n",
       "      <td>3581</td>\n",
       "      <td>1,502</td>\n",
       "      <td>196</td>\n",
       "      <td>13.00%</td>\n",
       "      <td>559</td>\n",
       "      <td>37.20%</td>\n",
       "      <td>212</td>\n",
       "      <td>14.10%</td>\n",
       "      <td>51.30%</td>\n",
       "      <td>48.70%</td>\n",
       "    </tr>\n",
       "    <tr>\n",
       "      <th>2</th>\n",
       "      <td>MIDWESTERN STATE UNIVERSITY</td>\n",
       "      <td>3592</td>\n",
       "      <td>740</td>\n",
       "      <td>158</td>\n",
       "      <td>21.40%</td>\n",
       "      <td>369</td>\n",
       "      <td>49.90%</td>\n",
       "      <td>82</td>\n",
       "      <td>11.10%</td>\n",
       "      <td>60.90%</td>\n",
       "      <td>39.10%</td>\n",
       "    </tr>\n",
       "    <tr>\n",
       "      <th>3</th>\n",
       "      <td>PRAIRIE VIEW A&amp;M UNIVERSITY</td>\n",
       "      <td>3630</td>\n",
       "      <td>1,739</td>\n",
       "      <td>170</td>\n",
       "      <td>9.80%</td>\n",
       "      <td>599</td>\n",
       "      <td>34.40%</td>\n",
       "      <td>226</td>\n",
       "      <td>13.00%</td>\n",
       "      <td>47.40%</td>\n",
       "      <td>52.60%</td>\n",
       "    </tr>\n",
       "    <tr>\n",
       "      <th>4</th>\n",
       "      <td>SAM HOUSTON STATE UNIVERSITY</td>\n",
       "      <td>3606</td>\n",
       "      <td>2,211</td>\n",
       "      <td>632</td>\n",
       "      <td>28.60%</td>\n",
       "      <td>1,297</td>\n",
       "      <td>58.70%</td>\n",
       "      <td>210</td>\n",
       "      <td>9.50%</td>\n",
       "      <td>68.20%</td>\n",
       "      <td>31.80%</td>\n",
       "    </tr>\n",
       "  </tbody>\n",
       "</table>\n",
       "</div>"
      ],
      "text/plain": [
       "                     University    ID Fall 2010 Cohort Graduates in 4 years  \\\n",
       "0       ANGELO STATE UNIVERSITY  3541            1,306                  329   \n",
       "1              LAMAR UNIVERSITY  3581            1,502                  196   \n",
       "2   MIDWESTERN STATE UNIVERSITY  3592              740                  158   \n",
       "3   PRAIRIE VIEW A&M UNIVERSITY  3630            1,739                  170   \n",
       "4  SAM HOUSTON STATE UNIVERSITY  3606            2,211                  632   \n",
       "\n",
       "  4-year Graduation Rate Total Graduates in 6 years 6-year Graduation Rate  \\\n",
       "0                 25.20%                        581                 44.50%   \n",
       "1                 13.00%                        559                 37.20%   \n",
       "2                 21.40%                        369                 49.90%   \n",
       "3                  9.80%                        599                 34.40%   \n",
       "4                 28.60%                      1,297                 58.70%   \n",
       "\n",
       "   Non-Graduates, Persisting Persistence Rate Grad + Pers.  \\\n",
       "0                        145           11.10%       55.60%   \n",
       "1                        212           14.10%       51.30%   \n",
       "2                         82           11.10%       60.90%   \n",
       "3                        226           13.00%       47.40%   \n",
       "4                        210            9.50%       68.20%   \n",
       "\n",
       "  No Grad, No Persisting  \n",
       "0                 44.40%  \n",
       "1                 48.70%  \n",
       "2                 39.10%  \n",
       "3                 52.60%  \n",
       "4                 31.80%  "
      ]
     },
     "execution_count": 2,
     "metadata": {},
     "output_type": "execute_result"
    }
   ],
   "source": [
    "df1.head(5)"
   ]
  },
  {
   "cell_type": "markdown",
   "metadata": {},
   "source": [
    "# Dataset for 2017"
   ]
  },
  {
   "cell_type": "code",
   "execution_count": 3,
   "metadata": {},
   "outputs": [
    {
     "data": {
      "text/html": [
       "<div>\n",
       "<style scoped>\n",
       "    .dataframe tbody tr th:only-of-type {\n",
       "        vertical-align: middle;\n",
       "    }\n",
       "\n",
       "    .dataframe tbody tr th {\n",
       "        vertical-align: top;\n",
       "    }\n",
       "\n",
       "    .dataframe thead th {\n",
       "        text-align: right;\n",
       "    }\n",
       "</style>\n",
       "<table border=\"1\" class=\"dataframe\">\n",
       "  <thead>\n",
       "    <tr style=\"text-align: right;\">\n",
       "      <th></th>\n",
       "      <th>University</th>\n",
       "      <th>ID</th>\n",
       "      <th>Fall 2011 Cohort</th>\n",
       "      <th>Graduates in 4 years</th>\n",
       "      <th>4-year Graduation Rate</th>\n",
       "      <th>Total Graduates in 6 years</th>\n",
       "      <th>6-year Graduation Rate</th>\n",
       "      <th>Non-Graduates, Persisting</th>\n",
       "      <th>Persistence Rate</th>\n",
       "      <th>Grad + Pers.</th>\n",
       "      <th>No Grad, No Persisting</th>\n",
       "    </tr>\n",
       "  </thead>\n",
       "  <tbody>\n",
       "    <tr>\n",
       "      <th>0</th>\n",
       "      <td>ANGELO STATE UNIVERSITY</td>\n",
       "      <td>3541</td>\n",
       "      <td>1,324</td>\n",
       "      <td>389</td>\n",
       "      <td>29.40%</td>\n",
       "      <td>639</td>\n",
       "      <td>48.30%</td>\n",
       "      <td>140</td>\n",
       "      <td>10.60%</td>\n",
       "      <td>58.80%</td>\n",
       "      <td>41.20%</td>\n",
       "    </tr>\n",
       "    <tr>\n",
       "      <th>1</th>\n",
       "      <td>LAMAR UNIVERSITY</td>\n",
       "      <td>3581</td>\n",
       "      <td>1,663</td>\n",
       "      <td>170</td>\n",
       "      <td>10.20%</td>\n",
       "      <td>565</td>\n",
       "      <td>34.00%</td>\n",
       "      <td>203</td>\n",
       "      <td>12.20%</td>\n",
       "      <td>46.20%</td>\n",
       "      <td>53.80%</td>\n",
       "    </tr>\n",
       "    <tr>\n",
       "      <th>2</th>\n",
       "      <td>MIDWESTERN STATE UNIVERSITY</td>\n",
       "      <td>3592</td>\n",
       "      <td>628</td>\n",
       "      <td>142</td>\n",
       "      <td>22.60%</td>\n",
       "      <td>331</td>\n",
       "      <td>52.70%</td>\n",
       "      <td>71</td>\n",
       "      <td>11.30%</td>\n",
       "      <td>64.00%</td>\n",
       "      <td>36.00%</td>\n",
       "    </tr>\n",
       "    <tr>\n",
       "      <th>3</th>\n",
       "      <td>PRAIRIE VIEW A&amp;M UNIVERSITY</td>\n",
       "      <td>3630</td>\n",
       "      <td>1,696</td>\n",
       "      <td>238</td>\n",
       "      <td>14.00%</td>\n",
       "      <td>655</td>\n",
       "      <td>38.60%</td>\n",
       "      <td>220</td>\n",
       "      <td>13.00%</td>\n",
       "      <td>51.60%</td>\n",
       "      <td>48.40%</td>\n",
       "    </tr>\n",
       "    <tr>\n",
       "      <th>4</th>\n",
       "      <td>SAM HOUSTON STATE UNIVERSITY</td>\n",
       "      <td>3606</td>\n",
       "      <td>2,005</td>\n",
       "      <td>616</td>\n",
       "      <td>30.70%</td>\n",
       "      <td>1,169</td>\n",
       "      <td>58.30%</td>\n",
       "      <td>177</td>\n",
       "      <td>8.80%</td>\n",
       "      <td>67.10%</td>\n",
       "      <td>32.90%</td>\n",
       "    </tr>\n",
       "  </tbody>\n",
       "</table>\n",
       "</div>"
      ],
      "text/plain": [
       "                     University    ID Fall 2011 Cohort Graduates in 4 years  \\\n",
       "0       ANGELO STATE UNIVERSITY  3541            1,324                  389   \n",
       "1              LAMAR UNIVERSITY  3581            1,663                  170   \n",
       "2   MIDWESTERN STATE UNIVERSITY  3592              628                  142   \n",
       "3   PRAIRIE VIEW A&M UNIVERSITY  3630            1,696                  238   \n",
       "4  SAM HOUSTON STATE UNIVERSITY  3606            2,005                  616   \n",
       "\n",
       "  4-year Graduation Rate Total Graduates in 6 years 6-year Graduation Rate  \\\n",
       "0                 29.40%                        639                 48.30%   \n",
       "1                 10.20%                        565                 34.00%   \n",
       "2                 22.60%                        331                 52.70%   \n",
       "3                 14.00%                        655                 38.60%   \n",
       "4                 30.70%                      1,169                 58.30%   \n",
       "\n",
       "   Non-Graduates, Persisting Persistence Rate Grad + Pers.  \\\n",
       "0                        140           10.60%       58.80%   \n",
       "1                        203           12.20%       46.20%   \n",
       "2                         71           11.30%       64.00%   \n",
       "3                        220           13.00%       51.60%   \n",
       "4                        177            8.80%       67.10%   \n",
       "\n",
       "  No Grad, No Persisting  \n",
       "0                 41.20%  \n",
       "1                 53.80%  \n",
       "2                 36.00%  \n",
       "3                 48.40%  \n",
       "4                 32.90%  "
      ]
     },
     "execution_count": 3,
     "metadata": {},
     "output_type": "execute_result"
    }
   ],
   "source": [
    "df2.head(5)"
   ]
  },
  {
   "cell_type": "code",
   "execution_count": 4,
   "metadata": {},
   "outputs": [
    {
     "name": "stderr",
     "output_type": "stream",
     "text": [
      "C:\\Users\\Martin\\Anaconda3\\lib\\site-packages\\matplotlib\\axes\\_axes.py:6462: UserWarning: The 'normed' kwarg is deprecated, and has been replaced by the 'density' kwarg.\n",
      "  warnings.warn(\"The 'normed' kwarg is deprecated, and has been \"\n",
      "C:\\Users\\Martin\\Anaconda3\\lib\\site-packages\\matplotlib\\axes\\_axes.py:6462: UserWarning: The 'normed' kwarg is deprecated, and has been replaced by the 'density' kwarg.\n",
      "  warnings.warn(\"The 'normed' kwarg is deprecated, and has been \"\n"
     ]
    },
    {
     "data": {
      "text/plain": [
       "[Text(0.5,0,'2017 4 year graduation rate\\n Mean Graduation Rate = 27.437%')]"
      ]
     },
     "execution_count": 4,
     "metadata": {},
     "output_type": "execute_result"
    },
    {
     "data": {
      "image/png": "[encoded data removed]",
      "text/plain": [
       "<Figure size 936x504 with 2 Axes>"
      ]
     },
     "metadata": {},
     "output_type": "display_data"
    }
   ],
   "source": [
    "\n",
    "df1['4-year Graduation Rate'] = df1['4-year Graduation Rate'].astype('str')\n",
    "df1['4-year Graduation Rate'] = df1['4-year Graduation Rate'].str.strip('%')\n",
    "df1['4-year Graduation Rate'] = df1['4-year Graduation Rate'].astype('float')\n",
    "df2['4-year Graduation Rate'] = df2['4-year Graduation Rate'].astype('str')\n",
    "df2['4-year Graduation Rate'] = df2['4-year Graduation Rate'].str.strip('%')\n",
    "df2['4-year Graduation Rate'] = df2['4-year Graduation Rate'].astype('float')\n",
    "\n",
    "fig, (ax0, ax1) = plt.subplots(nrows=1, ncols=2, sharey=False, figsize=(13,7))\n",
    "plt.subplots_adjust(hspace =.5)\n",
    "sns.distplot( df1[\"4-year Graduation Rate\"], ax=ax0, color=\"skyblue\")\n",
    "ax0.set(xlabel=\"2016 4 year graduation rate\\n Mean Graduation Rate = 25.669%\", ylabel=\"Nuber of Colleges\")\n",
    "sns.distplot( df2[\"4-year Graduation Rate\"], ax=ax1,color=\"red\")\n",
    "ax1.set(xlabel=\"2017 4 year graduation rate\\n Mean Graduation Rate = 27.437%\")\n"
   ]
  },
  {
   "cell_type": "markdown",
   "metadata": {},
   "source": [
    "# Null Hypothesis\n",
    "\n",
    "Measures already put in place have increased the number of public university students completing their baccalaureate degrees on time by 2% over the last year."
   ]
  },
  {
   "cell_type": "markdown",
   "metadata": {},
   "source": [
    "# Alternate Hypothesis:\n",
    "    \n",
    "The increase in on-time completion rates for baccalaureate degrees is less than 2%.\n"
   ]
  },
  {
   "cell_type": "code",
   "execution_count": 5,
   "metadata": {},
   "outputs": [
    {
     "data": {
      "text/plain": [
       "Ttest_indResult(statistic=-0.4138582042094433, pvalue=0.6802626805038374)"
      ]
     },
     "execution_count": 5,
     "metadata": {},
     "output_type": "execute_result"
    }
   ],
   "source": [
    "stats.ttest_ind(df1['4-year Graduation Rate'], df2['4-year Graduation Rate'], equal_var = False)"
   ]
  },
  {
   "cell_type": "markdown",
   "metadata": {},
   "source": [
    "# The Solution\n",
    "\n",
    "I propose two behavior modifiers be put in place at all state universities:\n",
    "\n",
    "    •\tStudents who complete their degrees on time should be rewarded with a 10% rebate on their college tuition.\n",
    "    \n",
    "    •\tStudents who do not complete their baccalaureate degrees within a four year time frame will be sanctioned with a 10% increase in their tuition rate.\n"
   ]
  },
  {
   "cell_type": "markdown",
   "metadata": {},
   "source": [
    "\n",
    "# Methodology\n",
    "All state universities will Impose the rebate/sanction behavior modifiers at the same time, students should be informed of the changes one semester prior to the behavior modifiers being implemented (this is the same notice students are given before any tuition increase).\n",
    "\n",
    "State universities will need to be prepared for an increase in enrollment for many classes once the changes are announced and should be prepared to offer additional courses to meet student demand.\n"
   ]
  },
  {
   "cell_type": "markdown",
   "metadata": {},
   "source": [
    "# Measurements \n",
    "Success will be measured by an increase in the percentage of students completing their baccalaureate programs on time.  Some community colleges (Collin College, McLennan County Community College) have already implemented the rebate/sanction model and have seen up to a 10% increase for their on-time graduation rates (at the associate degree level).  My expectation is a 5% to 10% increase in on-time graduation rates at all state universities.\n",
    "\n",
    "Secondary Measurements\n",
    "\n",
    "Implementation of the new fee and financial incentive could also impact other measures of student performance such as:\n",
    "\n",
    "    •\tAn increase in the student drop-out rate.\n",
    "\n",
    "    •\tAn increase in academic performance (students failing fewer classes).\n"
   ]
  },
  {
   "cell_type": "markdown",
   "metadata": {},
   "source": [
    "# Contingency Plans\n",
    "\n",
    "If we do not see an increase in the on-time graduation rates of at least 5% by the end of the second year of implementation, colleges will remove the fees and rebates.\n"
   ]
  },
  {
   "cell_type": "code",
   "execution_count": null,
   "metadata": {},
   "outputs": [],
   "source": []
  }
 ],
 "metadata": {
  "kernelspec": {
   "display_name": "Python 3",
   "language": "python",
   "name": "python3"
  },
  "language_info": {
   "codemirror_mode": {
    "name": "ipython",
    "version": 3
   },
   "file_extension": ".py",
   "mimetype": "text/x-python",
   "name": "python",
   "nbconvert_exporter": "python",
   "pygments_lexer": "ipython3",
   "version": "3.6.5"
  }
 },
 "nbformat": 4,
 "nbformat_minor": 2
}
